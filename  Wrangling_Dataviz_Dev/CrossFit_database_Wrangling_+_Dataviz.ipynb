{
  "nbformat": 4,
  "nbformat_minor": 0,
  "metadata": {
    "colab": {
      "provenance": [],
      "mount_file_id": "1D_DHOkmdhPnjXZ4ZJ5MwQl_6cdb0PvK9",
      "authorship_tag": "ABX9TyMzX0ixF+1bLH3jsPs5Yctr",
      "include_colab_link": true
    },
    "kernelspec": {
      "name": "python3",
      "display_name": "Python 3"
    },
    "language_info": {
      "name": "python"
    }
  },
  "cells": [
    {
      "cell_type": "markdown",
      "metadata": {
        "id": "view-in-github",
        "colab_type": "text"
      },
      "source": [
        "<a href=\"https://colab.research.google.com/github/renan-gomes/Data_Science_portfolio/blob/main/%20Wrangling_Dataviz_Dev/CrossFit_database_Wrangling_%2B_Dataviz.ipynb\" target=\"_parent\"><img src=\"https://colab.research.google.com/assets/colab-badge.svg\" alt=\"Open In Colab\"/></a>"
      ]
    },
    {
      "cell_type": "code",
      "execution_count": 1,
      "metadata": {
        "id": "S5pO87b4aae_"
      },
      "outputs": [],
      "source": [
        "import numpy as np\n",
        "import pandas as pd\n",
        "import matplotlib.pyplot as plt\n",
        "import seaborn as sns"
      ]
    },
    {
      "cell_type": "code",
      "source": [
        "df=pd.read_csv('/content/drive/MyDrive/Colab Notebooks/Portfolio/Are you a Crossfitter/athletes.csv') #source: /kaggle/input/crossfit-athletes/athletes.csv\n",
        "print(df.columns)\n",
        "df.describe()"
      ],
      "metadata": {
        "colab": {
          "base_uri": "https://localhost:8080/",
          "height": 407
        },
        "id": "VZGwH6vMbR61",
        "outputId": "6ebf84e2-ed04-47c3-e92e-dfe4be7ba325"
      },
      "execution_count": 4,
      "outputs": [
        {
          "output_type": "stream",
          "name": "stdout",
          "text": [
            "Index(['athlete_id', 'name', 'region', 'team', 'affiliate', 'gender', 'age',\n",
            "       'height', 'weight', 'fran', 'helen', 'grace', 'filthy50', 'fgonebad',\n",
            "       'run400', 'run5k', 'candj', 'snatch', 'deadlift', 'backsq', 'pullups',\n",
            "       'eat', 'train', 'background', 'experience', 'schedule', 'howlong'],\n",
            "      dtype='object')\n"
          ]
        },
        {
          "output_type": "execute_result",
          "data": {
            "text/plain": [
              "          athlete_id            age        height         weight  \\\n",
              "count  423003.000000  331110.000000  1.598690e+05  229890.000000   \n",
              "mean   292748.166538      32.516750  1.206217e+02     170.896137   \n",
              "std    184969.660327       7.730671  2.097995e+04      58.379799   \n",
              "min        82.000000      13.000000  0.000000e+00       1.000000   \n",
              "25%    135091.500000      27.000000  6.600000e+01     145.000000   \n",
              "50%    275839.000000      31.000000  6.900000e+01     170.000000   \n",
              "75%    473188.000000      37.000000  7.200000e+01     192.000000   \n",
              "max    633083.000000     125.000000  8.388607e+06   20175.000000   \n",
              "\n",
              "               fran         helen         grace      filthy50      fgonebad  \\\n",
              "count  5.542600e+04  3.027900e+04  4.074500e+04  1.935900e+04  2.973800e+04   \n",
              "mean   9.886691e+02  1.207950e+03  5.766025e+02  2.127863e+03  1.472252e+03   \n",
              "std    7.200430e+04  6.824091e+04  4.891145e+04  6.055021e+04  9.762688e+04   \n",
              "min    1.000000e+00  1.000000e+00 -6.000000e+01  1.000000e+00  0.000000e+00   \n",
              "25%    2.150000e+02  5.250000e+02  1.490000e+02  1.308000e+03  2.400000e+02   \n",
              "50%    2.900000e+02  5.950000e+02  1.930000e+02  1.550000e+03  2.940000e+02   \n",
              "75%    3.920000e+02  6.940000e+02  2.620000e+02  1.809000e+03  3.360000e+02   \n",
              "max    8.388607e+06  8.388607e+06  8.388607e+06  8.388607e+06  8.388607e+06   \n",
              "\n",
              "             run400         run5k         candj        snatch      deadlift  \\\n",
              "count  2.224600e+04  3.609700e+04  1.044350e+05  9.728000e+04  1.153230e+05   \n",
              "mean   5.241279e+02  3.411464e+03  2.709107e+02  2.424957e+02  6.970503e+02   \n",
              "std    5.628804e+04  1.251980e+05  2.596882e+04  2.708942e+04  5.523235e+04   \n",
              "min    1.000000e+00  1.000000e+00 -4.500000e+01  0.000000e+00 -5.000000e+02   \n",
              "25%    6.200000e+01  1.242000e+03  1.400000e+02  1.050000e+02  2.550000e+02   \n",
              "50%    7.100000e+01  1.380000e+03  1.950000e+02  1.450000e+02  3.450000e+02   \n",
              "75%    8.400000e+01  1.560000e+03  2.350000e+02  1.850000e+02  4.150000e+02   \n",
              "max    8.388607e+06  8.388607e+06  8.388607e+06  8.388607e+06  8.388607e+06   \n",
              "\n",
              "             backsq       pullups  \n",
              "count  1.105170e+05  5.060800e+04  \n",
              "mean   5.852109e+02  4.269613e+04  \n",
              "std    5.052976e+04  9.546078e+06  \n",
              "min   -7.000000e+00 -6.000000e+00  \n",
              "25%    2.050000e+02  1.500000e+01  \n",
              "50%    2.750000e+02  2.700000e+01  \n",
              "75%    3.350000e+02  3.900000e+01  \n",
              "max    8.388607e+06  2.147484e+09  "
            ],
            "text/html": [
              "\n",
              "  <div id=\"df-216838de-ff2b-41c6-8086-46250f84a40e\" class=\"colab-df-container\">\n",
              "    <div>\n",
              "<style scoped>\n",
              "    .dataframe tbody tr th:only-of-type {\n",
              "        vertical-align: middle;\n",
              "    }\n",
              "\n",
              "    .dataframe tbody tr th {\n",
              "        vertical-align: top;\n",
              "    }\n",
              "\n",
              "    .dataframe thead th {\n",
              "        text-align: right;\n",
              "    }\n",
              "</style>\n",
              "<table border=\"1\" class=\"dataframe\">\n",
              "  <thead>\n",
              "    <tr style=\"text-align: right;\">\n",
              "      <th></th>\n",
              "      <th>athlete_id</th>\n",
              "      <th>age</th>\n",
              "      <th>height</th>\n",
              "      <th>weight</th>\n",
              "      <th>fran</th>\n",
              "      <th>helen</th>\n",
              "      <th>grace</th>\n",
              "      <th>filthy50</th>\n",
              "      <th>fgonebad</th>\n",
              "      <th>run400</th>\n",
              "      <th>run5k</th>\n",
              "      <th>candj</th>\n",
              "      <th>snatch</th>\n",
              "      <th>deadlift</th>\n",
              "      <th>backsq</th>\n",
              "      <th>pullups</th>\n",
              "    </tr>\n",
              "  </thead>\n",
              "  <tbody>\n",
              "    <tr>\n",
              "      <th>count</th>\n",
              "      <td>423003.000000</td>\n",
              "      <td>331110.000000</td>\n",
              "      <td>1.598690e+05</td>\n",
              "      <td>229890.000000</td>\n",
              "      <td>5.542600e+04</td>\n",
              "      <td>3.027900e+04</td>\n",
              "      <td>4.074500e+04</td>\n",
              "      <td>1.935900e+04</td>\n",
              "      <td>2.973800e+04</td>\n",
              "      <td>2.224600e+04</td>\n",
              "      <td>3.609700e+04</td>\n",
              "      <td>1.044350e+05</td>\n",
              "      <td>9.728000e+04</td>\n",
              "      <td>1.153230e+05</td>\n",
              "      <td>1.105170e+05</td>\n",
              "      <td>5.060800e+04</td>\n",
              "    </tr>\n",
              "    <tr>\n",
              "      <th>mean</th>\n",
              "      <td>292748.166538</td>\n",
              "      <td>32.516750</td>\n",
              "      <td>1.206217e+02</td>\n",
              "      <td>170.896137</td>\n",
              "      <td>9.886691e+02</td>\n",
              "      <td>1.207950e+03</td>\n",
              "      <td>5.766025e+02</td>\n",
              "      <td>2.127863e+03</td>\n",
              "      <td>1.472252e+03</td>\n",
              "      <td>5.241279e+02</td>\n",
              "      <td>3.411464e+03</td>\n",
              "      <td>2.709107e+02</td>\n",
              "      <td>2.424957e+02</td>\n",
              "      <td>6.970503e+02</td>\n",
              "      <td>5.852109e+02</td>\n",
              "      <td>4.269613e+04</td>\n",
              "    </tr>\n",
              "    <tr>\n",
              "      <th>std</th>\n",
              "      <td>184969.660327</td>\n",
              "      <td>7.730671</td>\n",
              "      <td>2.097995e+04</td>\n",
              "      <td>58.379799</td>\n",
              "      <td>7.200430e+04</td>\n",
              "      <td>6.824091e+04</td>\n",
              "      <td>4.891145e+04</td>\n",
              "      <td>6.055021e+04</td>\n",
              "      <td>9.762688e+04</td>\n",
              "      <td>5.628804e+04</td>\n",
              "      <td>1.251980e+05</td>\n",
              "      <td>2.596882e+04</td>\n",
              "      <td>2.708942e+04</td>\n",
              "      <td>5.523235e+04</td>\n",
              "      <td>5.052976e+04</td>\n",
              "      <td>9.546078e+06</td>\n",
              "    </tr>\n",
              "    <tr>\n",
              "      <th>min</th>\n",
              "      <td>82.000000</td>\n",
              "      <td>13.000000</td>\n",
              "      <td>0.000000e+00</td>\n",
              "      <td>1.000000</td>\n",
              "      <td>1.000000e+00</td>\n",
              "      <td>1.000000e+00</td>\n",
              "      <td>-6.000000e+01</td>\n",
              "      <td>1.000000e+00</td>\n",
              "      <td>0.000000e+00</td>\n",
              "      <td>1.000000e+00</td>\n",
              "      <td>1.000000e+00</td>\n",
              "      <td>-4.500000e+01</td>\n",
              "      <td>0.000000e+00</td>\n",
              "      <td>-5.000000e+02</td>\n",
              "      <td>-7.000000e+00</td>\n",
              "      <td>-6.000000e+00</td>\n",
              "    </tr>\n",
              "    <tr>\n",
              "      <th>25%</th>\n",
              "      <td>135091.500000</td>\n",
              "      <td>27.000000</td>\n",
              "      <td>6.600000e+01</td>\n",
              "      <td>145.000000</td>\n",
              "      <td>2.150000e+02</td>\n",
              "      <td>5.250000e+02</td>\n",
              "      <td>1.490000e+02</td>\n",
              "      <td>1.308000e+03</td>\n",
              "      <td>2.400000e+02</td>\n",
              "      <td>6.200000e+01</td>\n",
              "      <td>1.242000e+03</td>\n",
              "      <td>1.400000e+02</td>\n",
              "      <td>1.050000e+02</td>\n",
              "      <td>2.550000e+02</td>\n",
              "      <td>2.050000e+02</td>\n",
              "      <td>1.500000e+01</td>\n",
              "    </tr>\n",
              "    <tr>\n",
              "      <th>50%</th>\n",
              "      <td>275839.000000</td>\n",
              "      <td>31.000000</td>\n",
              "      <td>6.900000e+01</td>\n",
              "      <td>170.000000</td>\n",
              "      <td>2.900000e+02</td>\n",
              "      <td>5.950000e+02</td>\n",
              "      <td>1.930000e+02</td>\n",
              "      <td>1.550000e+03</td>\n",
              "      <td>2.940000e+02</td>\n",
              "      <td>7.100000e+01</td>\n",
              "      <td>1.380000e+03</td>\n",
              "      <td>1.950000e+02</td>\n",
              "      <td>1.450000e+02</td>\n",
              "      <td>3.450000e+02</td>\n",
              "      <td>2.750000e+02</td>\n",
              "      <td>2.700000e+01</td>\n",
              "    </tr>\n",
              "    <tr>\n",
              "      <th>75%</th>\n",
              "      <td>473188.000000</td>\n",
              "      <td>37.000000</td>\n",
              "      <td>7.200000e+01</td>\n",
              "      <td>192.000000</td>\n",
              "      <td>3.920000e+02</td>\n",
              "      <td>6.940000e+02</td>\n",
              "      <td>2.620000e+02</td>\n",
              "      <td>1.809000e+03</td>\n",
              "      <td>3.360000e+02</td>\n",
              "      <td>8.400000e+01</td>\n",
              "      <td>1.560000e+03</td>\n",
              "      <td>2.350000e+02</td>\n",
              "      <td>1.850000e+02</td>\n",
              "      <td>4.150000e+02</td>\n",
              "      <td>3.350000e+02</td>\n",
              "      <td>3.900000e+01</td>\n",
              "    </tr>\n",
              "    <tr>\n",
              "      <th>max</th>\n",
              "      <td>633083.000000</td>\n",
              "      <td>125.000000</td>\n",
              "      <td>8.388607e+06</td>\n",
              "      <td>20175.000000</td>\n",
              "      <td>8.388607e+06</td>\n",
              "      <td>8.388607e+06</td>\n",
              "      <td>8.388607e+06</td>\n",
              "      <td>8.388607e+06</td>\n",
              "      <td>8.388607e+06</td>\n",
              "      <td>8.388607e+06</td>\n",
              "      <td>8.388607e+06</td>\n",
              "      <td>8.388607e+06</td>\n",
              "      <td>8.388607e+06</td>\n",
              "      <td>8.388607e+06</td>\n",
              "      <td>8.388607e+06</td>\n",
              "      <td>2.147484e+09</td>\n",
              "    </tr>\n",
              "  </tbody>\n",
              "</table>\n",
              "</div>\n",
              "    <div class=\"colab-df-buttons\">\n",
              "\n",
              "  <div class=\"colab-df-container\">\n",
              "    <button class=\"colab-df-convert\" onclick=\"convertToInteractive('df-216838de-ff2b-41c6-8086-46250f84a40e')\"\n",
              "            title=\"Convert this dataframe to an interactive table.\"\n",
              "            style=\"display:none;\">\n",
              "\n",
              "  <svg xmlns=\"http://www.w3.org/2000/svg\" height=\"24px\" viewBox=\"0 -960 960 960\">\n",
              "    <path d=\"M120-120v-720h720v720H120Zm60-500h600v-160H180v160Zm220 220h160v-160H400v160Zm0 220h160v-160H400v160ZM180-400h160v-160H180v160Zm440 0h160v-160H620v160ZM180-180h160v-160H180v160Zm440 0h160v-160H620v160Z\"/>\n",
              "  </svg>\n",
              "    </button>\n",
              "\n",
              "  <style>\n",
              "    .colab-df-container {\n",
              "      display:flex;\n",
              "      gap: 12px;\n",
              "    }\n",
              "\n",
              "    .colab-df-convert {\n",
              "      background-color: #E8F0FE;\n",
              "      border: none;\n",
              "      border-radius: 50%;\n",
              "      cursor: pointer;\n",
              "      display: none;\n",
              "      fill: #1967D2;\n",
              "      height: 32px;\n",
              "      padding: 0 0 0 0;\n",
              "      width: 32px;\n",
              "    }\n",
              "\n",
              "    .colab-df-convert:hover {\n",
              "      background-color: #E2EBFA;\n",
              "      box-shadow: 0px 1px 2px rgba(60, 64, 67, 0.3), 0px 1px 3px 1px rgba(60, 64, 67, 0.15);\n",
              "      fill: #174EA6;\n",
              "    }\n",
              "\n",
              "    .colab-df-buttons div {\n",
              "      margin-bottom: 4px;\n",
              "    }\n",
              "\n",
              "    [theme=dark] .colab-df-convert {\n",
              "      background-color: #3B4455;\n",
              "      fill: #D2E3FC;\n",
              "    }\n",
              "\n",
              "    [theme=dark] .colab-df-convert:hover {\n",
              "      background-color: #434B5C;\n",
              "      box-shadow: 0px 1px 3px 1px rgba(0, 0, 0, 0.15);\n",
              "      filter: drop-shadow(0px 1px 2px rgba(0, 0, 0, 0.3));\n",
              "      fill: #FFFFFF;\n",
              "    }\n",
              "  </style>\n",
              "\n",
              "    <script>\n",
              "      const buttonEl =\n",
              "        document.querySelector('#df-216838de-ff2b-41c6-8086-46250f84a40e button.colab-df-convert');\n",
              "      buttonEl.style.display =\n",
              "        google.colab.kernel.accessAllowed ? 'block' : 'none';\n",
              "\n",
              "      async function convertToInteractive(key) {\n",
              "        const element = document.querySelector('#df-216838de-ff2b-41c6-8086-46250f84a40e');\n",
              "        const dataTable =\n",
              "          await google.colab.kernel.invokeFunction('convertToInteractive',\n",
              "                                                    [key], {});\n",
              "        if (!dataTable) return;\n",
              "\n",
              "        const docLinkHtml = 'Like what you see? Visit the ' +\n",
              "          '<a target=\"_blank\" href=https://colab.research.google.com/notebooks/data_table.ipynb>data table notebook</a>'\n",
              "          + ' to learn more about interactive tables.';\n",
              "        element.innerHTML = '';\n",
              "        dataTable['output_type'] = 'display_data';\n",
              "        await google.colab.output.renderOutput(dataTable, element);\n",
              "        const docLink = document.createElement('div');\n",
              "        docLink.innerHTML = docLinkHtml;\n",
              "        element.appendChild(docLink);\n",
              "      }\n",
              "    </script>\n",
              "  </div>\n",
              "\n",
              "\n",
              "<div id=\"df-90391c78-ffa2-4a42-9696-fff0177a4145\">\n",
              "  <button class=\"colab-df-quickchart\" onclick=\"quickchart('df-90391c78-ffa2-4a42-9696-fff0177a4145')\"\n",
              "            title=\"Suggest charts\"\n",
              "            style=\"display:none;\">\n",
              "\n",
              "<svg xmlns=\"http://www.w3.org/2000/svg\" height=\"24px\"viewBox=\"0 0 24 24\"\n",
              "     width=\"24px\">\n",
              "    <g>\n",
              "        <path d=\"M19 3H5c-1.1 0-2 .9-2 2v14c0 1.1.9 2 2 2h14c1.1 0 2-.9 2-2V5c0-1.1-.9-2-2-2zM9 17H7v-7h2v7zm4 0h-2V7h2v10zm4 0h-2v-4h2v4z\"/>\n",
              "    </g>\n",
              "</svg>\n",
              "  </button>\n",
              "\n",
              "<style>\n",
              "  .colab-df-quickchart {\n",
              "      --bg-color: #E8F0FE;\n",
              "      --fill-color: #1967D2;\n",
              "      --hover-bg-color: #E2EBFA;\n",
              "      --hover-fill-color: #174EA6;\n",
              "      --disabled-fill-color: #AAA;\n",
              "      --disabled-bg-color: #DDD;\n",
              "  }\n",
              "\n",
              "  [theme=dark] .colab-df-quickchart {\n",
              "      --bg-color: #3B4455;\n",
              "      --fill-color: #D2E3FC;\n",
              "      --hover-bg-color: #434B5C;\n",
              "      --hover-fill-color: #FFFFFF;\n",
              "      --disabled-bg-color: #3B4455;\n",
              "      --disabled-fill-color: #666;\n",
              "  }\n",
              "\n",
              "  .colab-df-quickchart {\n",
              "    background-color: var(--bg-color);\n",
              "    border: none;\n",
              "    border-radius: 50%;\n",
              "    cursor: pointer;\n",
              "    display: none;\n",
              "    fill: var(--fill-color);\n",
              "    height: 32px;\n",
              "    padding: 0;\n",
              "    width: 32px;\n",
              "  }\n",
              "\n",
              "  .colab-df-quickchart:hover {\n",
              "    background-color: var(--hover-bg-color);\n",
              "    box-shadow: 0 1px 2px rgba(60, 64, 67, 0.3), 0 1px 3px 1px rgba(60, 64, 67, 0.15);\n",
              "    fill: var(--button-hover-fill-color);\n",
              "  }\n",
              "\n",
              "  .colab-df-quickchart-complete:disabled,\n",
              "  .colab-df-quickchart-complete:disabled:hover {\n",
              "    background-color: var(--disabled-bg-color);\n",
              "    fill: var(--disabled-fill-color);\n",
              "    box-shadow: none;\n",
              "  }\n",
              "\n",
              "  .colab-df-spinner {\n",
              "    border: 2px solid var(--fill-color);\n",
              "    border-color: transparent;\n",
              "    border-bottom-color: var(--fill-color);\n",
              "    animation:\n",
              "      spin 1s steps(1) infinite;\n",
              "  }\n",
              "\n",
              "  @keyframes spin {\n",
              "    0% {\n",
              "      border-color: transparent;\n",
              "      border-bottom-color: var(--fill-color);\n",
              "      border-left-color: var(--fill-color);\n",
              "    }\n",
              "    20% {\n",
              "      border-color: transparent;\n",
              "      border-left-color: var(--fill-color);\n",
              "      border-top-color: var(--fill-color);\n",
              "    }\n",
              "    30% {\n",
              "      border-color: transparent;\n",
              "      border-left-color: var(--fill-color);\n",
              "      border-top-color: var(--fill-color);\n",
              "      border-right-color: var(--fill-color);\n",
              "    }\n",
              "    40% {\n",
              "      border-color: transparent;\n",
              "      border-right-color: var(--fill-color);\n",
              "      border-top-color: var(--fill-color);\n",
              "    }\n",
              "    60% {\n",
              "      border-color: transparent;\n",
              "      border-right-color: var(--fill-color);\n",
              "    }\n",
              "    80% {\n",
              "      border-color: transparent;\n",
              "      border-right-color: var(--fill-color);\n",
              "      border-bottom-color: var(--fill-color);\n",
              "    }\n",
              "    90% {\n",
              "      border-color: transparent;\n",
              "      border-bottom-color: var(--fill-color);\n",
              "    }\n",
              "  }\n",
              "</style>\n",
              "\n",
              "  <script>\n",
              "    async function quickchart(key) {\n",
              "      const quickchartButtonEl =\n",
              "        document.querySelector('#' + key + ' button');\n",
              "      quickchartButtonEl.disabled = true;  // To prevent multiple clicks.\n",
              "      quickchartButtonEl.classList.add('colab-df-spinner');\n",
              "      try {\n",
              "        const charts = await google.colab.kernel.invokeFunction(\n",
              "            'suggestCharts', [key], {});\n",
              "      } catch (error) {\n",
              "        console.error('Error during call to suggestCharts:', error);\n",
              "      }\n",
              "      quickchartButtonEl.classList.remove('colab-df-spinner');\n",
              "      quickchartButtonEl.classList.add('colab-df-quickchart-complete');\n",
              "    }\n",
              "    (() => {\n",
              "      let quickchartButtonEl =\n",
              "        document.querySelector('#df-90391c78-ffa2-4a42-9696-fff0177a4145 button');\n",
              "      quickchartButtonEl.style.display =\n",
              "        google.colab.kernel.accessAllowed ? 'block' : 'none';\n",
              "    })();\n",
              "  </script>\n",
              "</div>\n",
              "\n",
              "    </div>\n",
              "  </div>\n"
            ],
            "application/vnd.google.colaboratory.intrinsic+json": {
              "type": "dataframe",
              "summary": "{\n  \"name\": \"df\",\n  \"rows\": 8,\n  \"fields\": [\n    {\n      \"column\": \"athlete_id\",\n      \"properties\": {\n        \"dtype\": \"number\",\n        \"std\": 202499.2165487216,\n        \"min\": 82.0,\n        \"max\": 633083.0,\n        \"samples\": [\n          292748.16653782595,\n          275839.0,\n          423003.0\n        ],\n        \"num_unique_values\": 8,\n        \"semantic_type\": \"\",\n        \"description\": \"\"\n      }\n    },\n    {\n      \"column\": \"age\",\n      \"properties\": {\n        \"dtype\": \"number\",\n        \"std\": 117051.2677579502,\n        \"min\": 7.7306711325708,\n        \"max\": 331110.0,\n        \"samples\": [\n          32.516749720636646,\n          31.0,\n          331110.0\n        ],\n        \"num_unique_values\": 8,\n        \"semantic_type\": \"\",\n        \"description\": \"\"\n      }\n    },\n    {\n      \"column\": \"height\",\n      \"properties\": {\n        \"dtype\": \"number\",\n        \"std\": 2957184.3963863617,\n        \"min\": 0.0,\n        \"max\": 8388607.0,\n        \"samples\": [\n          120.6216840037781,\n          69.0,\n          159869.0\n        ],\n        \"num_unique_values\": 8,\n        \"semantic_type\": \"\",\n        \"description\": \"\"\n      }\n    },\n    {\n      \"column\": \"weight\",\n      \"properties\": {\n        \"dtype\": \"number\",\n        \"std\": 80528.46828191243,\n        \"min\": 1.0,\n        \"max\": 229890.0,\n        \"samples\": [\n          170.8961372830484,\n          170.0,\n          229890.0\n        ],\n        \"num_unique_values\": 8,\n        \"semantic_type\": \"\",\n        \"description\": \"\"\n      }\n    },\n    {\n      \"column\": \"fran\",\n      \"properties\": {\n        \"dtype\": \"number\",\n        \"std\": 2959430.609793335,\n        \"min\": 1.0,\n        \"max\": 8388607.0,\n        \"samples\": [\n          988.6690542344747,\n          290.0,\n          55426.0\n        ],\n        \"num_unique_values\": 8,\n        \"semantic_type\": \"\",\n        \"description\": \"\"\n      }\n    },\n    {\n      \"column\": \"helen\",\n      \"properties\": {\n        \"dtype\": \"number\",\n        \"std\": 2960790.7492267396,\n        \"min\": 1.0,\n        \"max\": 8388607.0,\n        \"samples\": [\n          1207.950229532019,\n          595.0,\n          30279.0\n        ],\n        \"num_unique_values\": 8,\n        \"semantic_type\": \"\",\n        \"description\": \"\"\n      }\n    },\n    {\n      \"column\": \"grace\",\n      \"properties\": {\n        \"dtype\": \"number\",\n        \"std\": 2961304.8791954895,\n        \"min\": -60.0,\n        \"max\": 8388607.0,\n        \"samples\": [\n          576.6024542888698,\n          193.0,\n          40745.0\n        ],\n        \"num_unique_values\": 8,\n        \"semantic_type\": \"\",\n        \"description\": \"\"\n      }\n    },\n    {\n      \"column\": \"filthy50\",\n      \"properties\": {\n        \"dtype\": \"number\",\n        \"std\": 2961513.0322454195,\n        \"min\": 1.0,\n        \"max\": 8388607.0,\n        \"samples\": [\n          2127.862596208482,\n          1550.0,\n          19359.0\n        ],\n        \"num_unique_values\": 8,\n        \"semantic_type\": \"\",\n        \"description\": \"\"\n      }\n    },\n    {\n      \"column\": \"fgonebad\",\n      \"properties\": {\n        \"dtype\": \"number\",\n        \"std\": 2959462.6859310246,\n        \"min\": 0.0,\n        \"max\": 8388607.0,\n        \"samples\": [\n          1472.2520008070483,\n          294.0,\n          29738.0\n        ],\n        \"num_unique_values\": 8,\n        \"semantic_type\": \"\",\n        \"description\": \"\"\n      }\n    },\n    {\n      \"column\": \"run400\",\n      \"properties\": {\n        \"dtype\": \"number\",\n        \"std\": 2961883.094511462,\n        \"min\": 1.0,\n        \"max\": 8388607.0,\n        \"samples\": [\n          524.1278881596692,\n          71.0,\n          22246.0\n        ],\n        \"num_unique_values\": 8,\n        \"semantic_type\": \"\",\n        \"description\": \"\"\n      }\n    },\n    {\n      \"column\": \"run5k\",\n      \"properties\": {\n        \"dtype\": \"number\",\n        \"std\": 2957602.292482544,\n        \"min\": 1.0,\n        \"max\": 8388607.0,\n        \"samples\": [\n          3411.463888965842,\n          1380.0,\n          36097.0\n        ],\n        \"num_unique_values\": 8,\n        \"semantic_type\": \"\",\n        \"description\": \"\"\n      }\n    },\n    {\n      \"column\": \"candj\",\n      \"properties\": {\n        \"dtype\": \"number\",\n        \"std\": 2959414.0416947785,\n        \"min\": -45.0,\n        \"max\": 8388607.0,\n        \"samples\": [\n          270.91073873701345,\n          195.0,\n          104435.0\n        ],\n        \"num_unique_values\": 8,\n        \"semantic_type\": \"\",\n        \"description\": \"\"\n      }\n    },\n    {\n      \"column\": \"snatch\",\n      \"properties\": {\n        \"dtype\": \"number\",\n        \"std\": 2959696.820495011,\n        \"min\": 0.0,\n        \"max\": 8388607.0,\n        \"samples\": [\n          242.49565172697368,\n          145.0,\n          97280.0\n        ],\n        \"num_unique_values\": 8,\n        \"semantic_type\": \"\",\n        \"description\": \"\"\n      }\n    },\n    {\n      \"column\": \"deadlift\",\n      \"properties\": {\n        \"dtype\": \"number\",\n        \"std\": 2957438.0142916283,\n        \"min\": -500.0,\n        \"max\": 8388607.0,\n        \"samples\": [\n          697.0502761808139,\n          345.0,\n          115323.0\n        ],\n        \"num_unique_values\": 8,\n        \"semantic_type\": \"\",\n        \"description\": \"\"\n      }\n    },\n    {\n      \"column\": \"backsq\",\n      \"properties\": {\n        \"dtype\": \"number\",\n        \"std\": 2957881.5947590186,\n        \"min\": -7.0,\n        \"max\": 8388607.0,\n        \"samples\": [\n          585.2109177773556,\n          275.0,\n          110517.0\n        ],\n        \"num_unique_values\": 8,\n        \"semantic_type\": \"\",\n        \"description\": \"\"\n      }\n    },\n    {\n      \"column\": \"pullups\",\n      \"properties\": {\n        \"dtype\": \"number\",\n        \"std\": 758770587.9010347,\n        \"min\": -6.0,\n        \"max\": 2147483647.0,\n        \"samples\": [\n          42696.13051296238,\n          27.0,\n          50608.0\n        ],\n        \"num_unique_values\": 8,\n        \"semantic_type\": \"\",\n        \"description\": \"\"\n      }\n    }\n  ]\n}"
            }
          },
          "metadata": {},
          "execution_count": 4
        }
      ]
    },
    {
      "cell_type": "code",
      "source": [
        "shape = df.shape\n",
        "print(f'There are {shape[0]} rows and {shape[1]} columns, and {(shape[0]*shape[1])/1e6:.1f}M datapoints in this file.')"
      ],
      "metadata": {
        "colab": {
          "base_uri": "https://localhost:8080/"
        },
        "id": "WWMlpJC_bTxh",
        "outputId": "c6e7a5d9-1243-46b2-c6ca-75ab46cf9e32"
      },
      "execution_count": 5,
      "outputs": [
        {
          "output_type": "stream",
          "name": "stdout",
          "text": [
            "There are 423006 rows and 27 columns, and 11.4M datapoints in this file.\n"
          ]
        }
      ]
    },
    {
      "cell_type": "markdown",
      "source": [
        "# Data Wrangling"
      ],
      "metadata": {
        "id": "uNNXmZqVcSTW"
      }
    },
    {
      "cell_type": "code",
      "source": [
        "# cleaning 'gender'\n",
        "print(f'{set(df.gender)} were listed in gender field.')"
      ],
      "metadata": {
        "id": "cyEjbWkfcOxS"
      },
      "execution_count": null,
      "outputs": []
    },
    {
      "cell_type": "code",
      "source": [
        "df['gender'] = df.gender.map(lambda x: np.nan if x == '--' else x)\n",
        "df = df[df['gender'].notna()]\n",
        "print(f'{set(df.gender)} were listed in gender field.')"
      ],
      "metadata": {
        "id": "xWbrlLvTcU-x"
      },
      "execution_count": 3,
      "outputs": []
    },
    {
      "cell_type": "code",
      "source": [
        "#cleaning 'age'\n",
        "print(f'{set(df.age)} were listed in age field.')"
      ],
      "metadata": {
        "id": "JpHj-JY0cWEX"
      },
      "execution_count": null,
      "outputs": []
    },
    {
      "cell_type": "code",
      "source": [
        "print('Ages 13, 98, 115, 123, 124 and 125 are out of the official age categories.')\n",
        "df=df[(df['age']>13)&(df['age']<98)]"
      ],
      "metadata": {
        "id": "VACXadb6cWkA"
      },
      "execution_count": null,
      "outputs": []
    },
    {
      "cell_type": "code",
      "source": [
        "df = df[df['weight'].notna()]\n",
        "#removing people weighting less than 40kg and more than 120kg\n",
        "df = df[(df['weight']>=88.18)&(df['weight']<=264.55)]"
      ],
      "metadata": {
        "id": "7K0tp3zEcaB3"
      },
      "execution_count": null,
      "outputs": []
    },
    {
      "cell_type": "markdown",
      "source": [
        "Height, name, region, team and affiliate will not be used during this analysis, thus they will be removed."
      ],
      "metadata": {
        "id": "qLe7Pf9rcbIO"
      }
    },
    {
      "cell_type": "code",
      "source": [
        "#cleanning 'eat' column\n",
        "\n",
        "set(df.eat)"
      ],
      "metadata": {
        "id": "ws82TNmDcco-"
      },
      "execution_count": null,
      "outputs": []
    },
    {
      "cell_type": "code",
      "source": [
        "not_restricting=[] # 'not_restricting' if 'I eat whatever is convenient' is in the answer\n",
        "regular_cheater=[] # regular_cheater if 'I eat 1-3 full cheat meals per week' is in the answer\n",
        "healthy=[] # healthy if \"I' eat quality foods but don't measure the amount\" or 'I eat strict Paleo' are in the answer\n",
        "disciplined=[] # healthy if \"I weigh and measure my food' is in the answer\n",
        "notvalid=[] # notvalid if 'Decline to answer' is in the answer\n",
        "\n",
        "for i in set(df.eat):\n",
        "    try: # np.nan does not raise an error\n",
        "        if 'I eat whatever is convenient' in i:\n",
        "            not_restricting.append(i)\n",
        "        elif 'I eat 1-3 full cheat meals per week' in i:\n",
        "            regular_cheater.append(i)\n",
        "        elif (\"I eat quality foods but don't measure the amount\" in i)|('I eat strict Paleo' in i):\n",
        "            healthy.append(i)\n",
        "        elif 'I weigh and measure my food' in i:\n",
        "            disciplined.append(i)\n",
        "        elif 'Decline to answer' in i:\n",
        "            notvalid.append(i)\n",
        "    except:\n",
        "        None\n",
        "\n",
        "df['eat'] = df['eat'].map(lambda x: '1. not_restricting' if x in not_restricting else x)\n",
        "df['eat'] = df['eat'].map(lambda x: '2. regular_cheater' if x in regular_cheater else x)\n",
        "df['eat'] = df['eat'].map(lambda x: '3. healthy' if x in healthy else x)\n",
        "df['eat'] = df['eat'].map(lambda x: '4. disciplined' if x in disciplined else x)\n",
        "df['eat'] = df['eat'].map(lambda x: np.nan if x in notvalid else x)\n",
        "set(df.eat)"
      ],
      "metadata": {
        "id": "n7GGGlLfcetH"
      },
      "execution_count": null,
      "outputs": []
    },
    {
      "cell_type": "code",
      "source": [
        "#cleanning 'train' column\n",
        "\n",
        "set(df.train)"
      ],
      "metadata": {
        "id": "TpbXV40pchDm"
      },
      "execution_count": null,
      "outputs": []
    },
    {
      "cell_type": "code",
      "source": [
        "tracking_progress=[] # 'tracking_progress' if 'I record my workouts' is in the answer\n",
        "oriented=[] # oriented if 'I have a coach who determines my programming' or 'I workout mostly at a CrossFit Affiliate' or 'I incorporate CrossFit.com workouts' is in the answer\n",
        "self_taught=[] # self_taught if 'I workout mostly at home, work, or a traditional gym' or 'I write my own programming' are in the answer\n",
        "notvalid=[]\n",
        "\n",
        "for i in set(df.train):\n",
        "    try: # np.nan does not raise an error\n",
        "        if 'I record my workouts' in i:\n",
        "            tracking_progress.append(i)\n",
        "        elif ('I workout mostly at a CrossFit Affiliate' in i)|('I have a coach who determines my programming' in i)|('I incorporate CrossFit.com workouts' in i):\n",
        "            oriented.append(i)\n",
        "        elif ('I workout mostly at home, work, or a traditional gym' in i)|('I write my own programming' in i):\n",
        "            self_taught.append(i)\n",
        "        elif 'Decline to answer' in i:\n",
        "            notvalid.append(i)\n",
        "    except:\n",
        "        None\n",
        "\n",
        "df['train'] = df['train'].map(lambda x: '3. tracking_progress' if x in tracking_progress else x)\n",
        "df['train'] = df['train'].map(lambda x: '2. oriented' if x in oriented else x)\n",
        "df['train'] = df['train'].map(lambda x: '1. self_taught' if x in self_taught else x)\n",
        "df['train'] = df['train'].map(lambda x: np.nan if x in notvalid else x)\n",
        "set(df.train)"
      ],
      "metadata": {
        "id": "6_yOstXnchag"
      },
      "execution_count": null,
      "outputs": []
    },
    {
      "cell_type": "code",
      "source": [
        "#cleanning 'background' column\n",
        "\n",
        "set(df.background)"
      ],
      "metadata": {
        "id": "Q6AB8xmvcjXr"
      },
      "execution_count": null,
      "outputs": []
    },
    {
      "cell_type": "code",
      "source": [
        "professional=[] # 'professional' if 'I played professional sports' is in the answer\n",
        "college=[] # oriented if 'I played college sports' is in the answer\n",
        "hobby=[] # hobby if 'I regularly play recreational sports' is in the answer\n",
        "high_school=[] # high_school if 'I played youth or high school level sports' is in the  answer\n",
        "only_CF=[] # high_school if 'I have no athletic background besides CrossFit' is in the  answer\n",
        "notvalid=[] # notvalid if 'Decline to answer' is in the  answer\n",
        "\n",
        "for i in set(df.background):\n",
        "    try: # np.nan does not raise an error\n",
        "        if 'I played professional sports' in i:\n",
        "            professional.append(i)\n",
        "        elif 'I played college sports' in i:\n",
        "            college.append(i)\n",
        "        elif 'I regularly play recreational sports' in i:\n",
        "            hobby.append(i)\n",
        "        elif 'I played youth or high school level sports' in i:\n",
        "            high_school.append(i)\n",
        "        elif 'I have no athletic background besides CrossFit' in i:\n",
        "            only_CF.append(i)\n",
        "        elif 'Decline to answer' in i:\n",
        "            notvalid.append(i)\n",
        "    except:\n",
        "        None\n",
        "\n",
        "df['background'] = df['background'].map(lambda x: '5. professional' if x in professional else x)\n",
        "df['background'] = df['background'].map(lambda x: '4. college' if x in college else x)\n",
        "df['background'] = df['background'].map(lambda x: '3. hobby' if x in hobby else x)\n",
        "df['background'] = df['background'].map(lambda x: '2. high_school' if x in high_school else x)\n",
        "df['background'] = df['background'].map(lambda x: '1. only_CF' if x in only_CF else x)\n",
        "df['background'] = df['background'].map(lambda x: np.nan if x in notvalid else x)\n",
        "set(df.background)"
      ],
      "metadata": {
        "id": "vIFS10t4ckzJ"
      },
      "execution_count": null,
      "outputs": []
    },
    {
      "cell_type": "code",
      "source": [
        "#cleanning 'experience' column\n",
        "\n",
        "set(df.experience)"
      ],
      "metadata": {
        "id": "eRmOc5YJcmrf"
      },
      "execution_count": null,
      "outputs": []
    },
    {
      "cell_type": "code",
      "source": [
        "df=df.drop(columns=['experience']) #removing experience data from df"
      ],
      "metadata": {
        "id": "k7PqD-Plcn5h"
      },
      "execution_count": null,
      "outputs": []
    },
    {
      "cell_type": "code",
      "source": [
        "#cleanning 'schedule' column\n",
        "\n",
        "set(df.schedule)"
      ],
      "metadata": {
        "id": "45WpPesEcpXn"
      },
      "execution_count": null,
      "outputs": []
    },
    {
      "cell_type": "code",
      "source": [
        "frequent_mult=[] # 'frequent_mult' if 'I do multiple workouts in a day 3+ times a week' is in the answer\n",
        "twice_mult=[] # twice_mult if 'I do multiple workouts in a day 2x a week' is in the answer\n",
        "once_mult=[] # once_mult if 'I do multiple workouts in a day 1x a week' is in the answer\n",
        "single=[] # single if 'I usually only do 1 workout a day' is in the  answer\n",
        "notvalid=[] # notvalid if 'Decline to answer' or only mention rest days is in the  answer\n",
        "\n",
        "for i in set(df.schedule):\n",
        "    try: # np.nan does not raise an error\n",
        "        if 'I do multiple workouts in a day 3+ times a week' in i:\n",
        "            frequent_mult.append(i)\n",
        "        elif 'I do multiple workouts in a day 2x a week' in i:\n",
        "            twice_mult.append(i)\n",
        "        elif 'I do multiple workouts in a day 1x a week' in i:\n",
        "            once_mult.append(i)\n",
        "        elif 'I usually only do 1 workout a day' in i:\n",
        "            single.append(i)\n",
        "        elif ('Decline to answer' in i)|('I strictly schedule my rest days' in i)|('I typically rest 4 or more days per month' in i)|('I typically rest fewer than 4 days per month' in i):\n",
        "            notvalid.append(i)\n",
        "    except:\n",
        "        None\n",
        "\n",
        "df['schedule'] = df['schedule'].map(lambda x: '4. frequent_mult' if x in frequent_mult else x)\n",
        "df['schedule'] = df['schedule'].map(lambda x: '3. twice_mult' if x in twice_mult else x)\n",
        "df['schedule'] = df['schedule'].map(lambda x: '2. once_mult' if x in once_mult else x)\n",
        "df['schedule'] = df['schedule'].map(lambda x: '1. single' if x in single else x)\n",
        "df['schedule'] = df['schedule'].map(lambda x: np.nan if x in notvalid else x)\n",
        "set(df.schedule)"
      ],
      "metadata": {
        "id": "1VRym3Pjcr6Q"
      },
      "execution_count": null,
      "outputs": []
    },
    {
      "cell_type": "code",
      "source": [
        "#cleanning 'howlong' column\n",
        "\n",
        "set(df.howlong)"
      ],
      "metadata": {
        "id": "v33VdOLCcshe"
      },
      "execution_count": null,
      "outputs": []
    },
    {
      "cell_type": "code",
      "source": [
        "HL_more=[] # '4+ years' if '4+ years' is in the answer\n",
        "HL_4y=[] # '2-4 years' if '2-4 years' is in the answer\n",
        "HL_2y=[] # '1-2 years' if '1-2 years' is in the answer\n",
        "HL_1y=[] # '6-12 months' if '6-12 months' is in the  answer\n",
        "HL_6m=[] # 'Less than 6 months' if 'Less than 6 months' is in the  answer\n",
        "HL_nan=[] # notvalid if 'Decline to answer' or only mention rest days is in the  answer\n",
        "\n",
        "for i in set(df.howlong):\n",
        "    try: # np.nan does not raise an error\n",
        "        if '4+ years' in i:\n",
        "            HL_more.append(i)\n",
        "        elif '2-4 years' in i:\n",
        "            HL_4y.append(i)\n",
        "        elif '1-2 years' in i:\n",
        "            HL_2y.append(i)\n",
        "        elif '6-12 months' in i:\n",
        "            HL_1y.append(i)\n",
        "        elif 'Less than 6 months' in i:\n",
        "            HL_6m.append(i)\n",
        "        elif ('Decline to answer' in i)|('|' in i):\n",
        "            HL_nan.append(i)\n",
        "    except:\n",
        "        None\n",
        "\n",
        "df['howlong'] = df['howlong'].map(lambda x: '5. 4+ year' if x in HL_more else x)\n",
        "df['howlong'] = df['howlong'].map(lambda x: '4. 2-4 years' if x in HL_4y else x)\n",
        "df['howlong'] = df['howlong'].map(lambda x: '3. 1-2 years' if x in HL_2y else x)\n",
        "df['howlong'] = df['howlong'].map(lambda x: '2. 6-12 months' if x in HL_1y else x)\n",
        "df['howlong'] = df['howlong'].map(lambda x: '1. Less than 6 months' if x in HL_6m else x)\n",
        "df['howlong'] = df['howlong'].map(lambda x: np.nan if x in HL_nan else x)\n",
        "\n",
        "set(df.howlong)"
      ],
      "metadata": {
        "id": "QbveWEZccttq"
      },
      "execution_count": null,
      "outputs": []
    },
    {
      "cell_type": "code",
      "source": [
        "#replacing zeros and absurd values in each column per NaN\n",
        "\n",
        "\n",
        "##fran: time cap for beginners is 9min (limit=12min)\n",
        "df['fran'] = df['fran'].map(lambda x: np.nan if (x <= 0)|(x > 720) else x)\n",
        "##helen: time cap for beginners is 17min (limit=20min)\n",
        "df['helen'] = df['helen'].map(lambda x: np.nan if (x <= 0)|(x > 1200) else x)\n",
        "##grace: time cap for beginners is 7min (limit=10min)\n",
        "df['grace'] = df['grace'].map(lambda x: np.nan if (x <= 0)|(x > 600) else x)\n",
        "##filthy50: time cap for beginners is 30min (limit=33min)\n",
        "df['filthy50'] = df['filthy50'].map(lambda x: np.nan if (x <= 0)|(x > 1980) else x)\n",
        "##fgonebad: elites perform 500+ reps\n",
        "df['fgonebad'] = df['fgonebad'].map(lambda x: np.nan if (x <= 0)|(x > 700) else x)\n",
        "##run400: begginers at advanced age would run under 4min\n",
        "df['run400'] = df['run400'].map(lambda x: np.nan if (x <= 0)|(x > 240) else x)\n",
        "##run5k: begginers at advanced age would run under 1h\n",
        "df['run5k'] = df['run5k'].map(lambda x: np.nan if (x <= 0)|(x > 3600) else x)\n",
        "##clean and jerk: world record is 589lbs\n",
        "df['candj'] = df['candj'].map(lambda x: np.nan if (x <= 0)|(x > 589) else x)\n",
        "##snatch: world record is 496lbs\n",
        "df['snatch'] = df['snatch'].map(lambda x: np.nan if (x <= 0)|(x > 496) else x)\n",
        "##deadlift: world record is 1,210lbs\n",
        "df['deadlift'] = df['deadlift'].map(lambda x: np.nan if (x <= 0 )|(x > 1210) else x)\n",
        "##squat: world record is 1069lbs\n",
        "df['backsq'] = df['backsq'].map(lambda x: np.nan if (x <= 0)|(x > 1069) else x)\n",
        "##pullups: world record is 650reps in one set\n",
        "df['pullups'] = df['pullups'].map(lambda x: np.nan if (x < 0)|(x > 650) else x)\n",
        "\n",
        "#removing athletes with no useful results\n",
        "df = df.dropna(subset=df.columns[4:-5], thresh=1)"
      ],
      "metadata": {
        "id": "wFUHt2tWcu2U"
      },
      "execution_count": null,
      "outputs": []
    },
    {
      "cell_type": "markdown",
      "source": [
        "# Data exploration"
      ],
      "metadata": {
        "id": "wE4fBKTVcy6u"
      }
    },
    {
      "cell_type": "markdown",
      "source": [
        "### Correlation between continuous variables"
      ],
      "metadata": {
        "id": "rStGm0mNczqg"
      }
    },
    {
      "cell_type": "code",
      "source": [
        "corr = df.iloc[:,1:].corr(method='spearman') #dropping athlete_ID col\n",
        "corr = corr.apply(lambda x: round(x,2)) #rounding corr values to fit into the square in the heatmap\n",
        "mask = np.triu(np.ones_like(corr, dtype=bool)) # Generate a mask for the upper triangle\n",
        "\n",
        "sns.set(rc={'figure.figsize':(10,5)})\n",
        "sns.heatmap(corr, vmax=1, vmin=-1, center=0, cmap=\"seismic\", annot=True, mask=mask, linewidths=.5)"
      ],
      "metadata": {
        "id": "05wO1NA-cwiq"
      },
      "execution_count": null,
      "outputs": []
    },
    {
      "cell_type": "markdown",
      "source": [
        "Considering that:\n",
        "* higher results for load and rep counting exercises (weightlifting, pullups and fgonebad) are the better;\n",
        "* and lower results for time exercises (other WODs and cardio) are the better:\n",
        "\n",
        "### - the negative correlation between load/rep and time results was expected.\n",
        "### - High correlation\n",
        "* all weighlifting exercises\n",
        "* Fran vs Helen, Fran vs FGoneBad\n",
        "\n",
        "\n",
        "### - Mid correlation\n",
        "* weight vs all weighlifting exercises\n",
        "* 400m vs 5k\n",
        "* pull ups vs weightlifting\n",
        "* pull ups vs WODs\n",
        "\n",
        "\n",
        "### - Mid-Low correlation\n",
        "* WODs vs cardio\n",
        "* weightlifting vs WODs\n",
        "\n",
        "\n",
        "### - Low correlation\n",
        "* pull ups vs cardio\n",
        "* weighlifting vs cardio"
      ],
      "metadata": {
        "id": "qgrVImgCc6Wi"
      }
    },
    {
      "cell_type": "code",
      "source": [
        "#function to pair results using their correlation as criteria\n",
        "\n",
        "def correlation_exercises(df_corr,correlation_type):\n",
        "    if correlation_type == 'high':\n",
        "        correlation_threshold = abs(corr) >=0.7\n",
        "    elif correlation_type == 'medium':\n",
        "        correlation_threshold = (abs(corr) >= 0.5)&(abs(corr) < 0.7)\n",
        "    elif correlation_type == 'low':\n",
        "        correlation_threshold = (abs(corr) >= 0.3)&(abs(corr) < 0.5)\n",
        "\n",
        "    # Encontre onde a condição é verdadeira\n",
        "    df_corr_thresh = df_corr[correlation_threshold]\n",
        "    list_corr =[]\n",
        "    for col in df_corr_thresh.columns:\n",
        "        for row in df_corr_thresh.index:\n",
        "            if pd.notna(df_corr_thresh.loc[col,row]):\n",
        "                pair=[col,row]\n",
        "                if ([row,col] not in list_corr) & (col!=row): # to avoid duplicates and correlation to self\n",
        "                    list_corr.append(pair)\n",
        "    return list_corr\n",
        "\n",
        "#getting the groups of high/mid/low correlated results\n",
        "corr_class = ['high','medium','low']\n",
        "for x in corr_class:\n",
        "    print(x,'\\n',correlation_exercises(corr,x),'\\n')"
      ],
      "metadata": {
        "id": "H-Kp4HJvc5cO"
      },
      "execution_count": null,
      "outputs": []
    },
    {
      "cell_type": "markdown",
      "source": [
        "## Checking if gender impacts on results"
      ],
      "metadata": {
        "id": "Bjjfo7wTdBWn"
      }
    },
    {
      "cell_type": "code",
      "source": [
        "# Checking for normality\n",
        "\n",
        "\n",
        "from scipy import stats\n",
        "from scipy.stats import kstest\n",
        "\n",
        "results_list = ['fran', 'helen','grace', 'filthy50', 'fgonebad',\n",
        "                'run400', 'run5k',\n",
        "                'candj', 'snatch','deadlift', 'backsq',\n",
        "                'pullups']\n",
        "\n",
        "#null hypothesis: the distributions are normal\n",
        "normal_dist=[]\n",
        "not_normal_dist=[]\n",
        "for gender in ['Female','Male']:\n",
        "    for col in results_list:\n",
        "        results = df[(df.gender == gender)&(df[col].notna())][col]\n",
        "        stat, p_value = kstest(results,stats.norm.cdf) # Perform the Shapiro-Wilk test\n",
        "        #print(f'{col}, Coef: {stat:.2f}, P-value: {p_value:.2f}') # Check the p-value\n",
        "\n",
        "        # Interpret the p-value\n",
        "        if p_value > 0.05:\n",
        "            normal_dist.append([gender,col])\n",
        "        else:\n",
        "            not_normal_dist.append([gender,col])\n",
        "print('\\n')\n",
        "print(f'{normal_dist} appear(s) to follow a normal distribution.')\n",
        "print(f'{not_normal_dist} do(es) not appear to follow a normal distribution.')"
      ],
      "metadata": {
        "id": "Va3sZai5c99q"
      },
      "execution_count": null,
      "outputs": []
    },
    {
      "cell_type": "code",
      "source": [
        "# Checking for statistic significant difference between genders performing the same exercise\n",
        "\n",
        "from scipy.stats import mannwhitneyu\n",
        "stat_diff=[]\n",
        "not_stat_diff=[]\n",
        "for col in results_list:\n",
        "    results_men = df[(df.gender == 'Male')&(df[col].notna())][col]\n",
        "    results_women = df[(df.gender == 'Female')&(df[col].notna())][col]\n",
        "    # Mann-Whitney U test\n",
        "    stat, p_value = mannwhitneyu(results_men, results_women)\n",
        "    # Checking p-value\n",
        "    #print(f'{col}: coef: {stat:.2f}, p-value: {p_value}')\n",
        "\n",
        "        # Interpret the p-value\n",
        "    if p_value > 0.05:\n",
        "        not_stat_diff.append([col])\n",
        "    else:\n",
        "        stat_diff.append([col])\n",
        "print('\\n')\n",
        "print(f'{not_stat_diff}: the means of the data sets for women and men are not statistically different.')\n",
        "print(f'{stat_diff}: the means of the two data sets are statistically different.')"
      ],
      "metadata": {
        "id": "5OL2JZ-mdAag"
      },
      "execution_count": null,
      "outputs": []
    },
    {
      "cell_type": "markdown",
      "source": [
        "### For all exercises, men's mean results are better than women's.\n",
        "\n",
        "#### Example:"
      ],
      "metadata": {
        "id": "7rJBmvjudFyl"
      }
    },
    {
      "cell_type": "code",
      "source": [
        "sns.set(rc={'figure.figsize':(10,5)})\n",
        "sns.violinplot(data=df, x=\"gender\", y=\"snatch\")"
      ],
      "metadata": {
        "id": "SMU3g8MedGdu"
      },
      "execution_count": null,
      "outputs": []
    },
    {
      "cell_type": "markdown",
      "source": [
        "### And... does time of Crossfit practice affect this gender pattern?"
      ],
      "metadata": {
        "id": "1bhzer1LdI_F"
      }
    },
    {
      "cell_type": "code",
      "source": [
        "#slicing the original dataframe based on time of CF practice and gender\n",
        "from statistics import mean\n",
        "\n",
        "array_of_dfs_women_HL=[]\n",
        "array_of_dfs_men_HL=[]\n",
        "\n",
        "for gender in {'Female','Male'}:\n",
        "    for HL in {'1. Less than 6 months','2. 6-12 months','3. 1-2 years', '4. 2-4 years', '5. 4+ year'}:\n",
        "        if gender == 'Female':\n",
        "            array_of_dfs_women_HL.append(df[(df.howlong == HL)&(df.gender == gender)])\n",
        "        else:\n",
        "            array_of_dfs_men_HL.append(df[(df.howlong == HL)&(df.gender == gender)])\n",
        "\n",
        "time_exercise = ['fran', 'helen','grace', 'filthy50',  'run400', 'run5k']\n",
        "loadrep_exercise = ['fgonebad', 'candj', 'snatch','deadlift', 'backsq', 'pullups']"
      ],
      "metadata": {
        "id": "OcAbXLmkdJl9"
      },
      "execution_count": null,
      "outputs": []
    },
    {
      "cell_type": "code",
      "source": [
        "not_sig=[]\n",
        "sig=[]\n",
        "for df_women in array_of_dfs_women_HL:\n",
        "    for df_men in array_of_dfs_men_HL:\n",
        "        for exercise in results_list:\n",
        "            results_men = df_men[exercise][df_men[exercise].notna()]\n",
        "            results_women = df_women[exercise][df_women[exercise].notna()]\n",
        "            # Mann-Whitney U test\n",
        "            stat, p_value = mannwhitneyu(results_men, results_women)\n",
        "            # Checking p-value\n",
        "            #print(f'{exercise}: coef: {stat:.2f}, p-value: {p_value}')\n",
        "\n",
        "            wm_HL=df_women.iloc[0,-1]\n",
        "            m_HL=df_men.iloc[0,-1]\n",
        "\n",
        "            #Interpreting the p-value\n",
        "\n",
        "            mean_women = mean(results_women)\n",
        "            mean_men = mean(results_men)\n",
        "            if p_value > 0.05:\n",
        "                not_sig.append([wm_HL,m_HL,exercise,'same','same',mean_women,mean_men])\n",
        "            else:\n",
        "                if exercise in time_exercise:\n",
        "                    if mean_women > mean_men: #the faster, the better\n",
        "                        sig.append([wm_HL,m_HL,exercise, 'different','Men',mean_women,mean_men])\n",
        "                    else:\n",
        "                        sig.append([wm_HL,m_HL,exercise, 'different','Women',mean_women,mean_men])\n",
        "                if exercise in loadrep_exercise: #the heavier/more reps, the better\n",
        "                    if mean_women > mean_men:\n",
        "                        sig.append([wm_HL,m_HL,exercise, 'different','Women',mean_women,mean_men])\n",
        "                    else:\n",
        "                        sig.append([wm_HL,m_HL,exercise, 'different','Men',mean_women,mean_men])\n",
        "#Joining both lists\n",
        "gender_results_list = sig+not_sig\n",
        "\n",
        "#Creating a dataframe to identify the better performers considering gender and the period of CF training\n",
        "df_gender_results = pd.DataFrame(gender_results_list, columns=['howlong_women', 'howlong_men', 'exercise','mean_comparation','better_performer','mean_women','mean_men'])\n",
        "\n",
        "#Printing rows in which men are not the better performers\n",
        "for exercise in results_list:\n",
        "    print(exercise)\n",
        "    better_performers=df_gender_results[(df_gender_results.exercise == exercise)]\n",
        "    print(better_performers[better_performers.better_performer != 'Men'].iloc[:,[0,1,4]])\n",
        "    print('\\n')"
      ],
      "metadata": {
        "id": "U3l8X8M1dLJg"
      },
      "execution_count": null,
      "outputs": []
    },
    {
      "cell_type": "markdown",
      "source": [
        "# **Conclusions**\n",
        "\n",
        "* ### cardio and weightlifting\n",
        "#### - men's means are better in all scenarios\n",
        "    \n",
        "* ### pull ups\n",
        "#### - means are equivalent only when considering women training for 4y+ and men less than 6mo\n",
        "\n",
        "* ### WODs\n",
        "#### - women's means are better only when considering women training for 4y+ and men less than 6mo (except for Helen)\n",
        "#### - fran, grace and filthy50: means are equivalent for women training for 2-4y and men less than 6mo.\n",
        "#### - fgonebad is the only WOD that women (independently of time of training) and men less than 6mo have equivalent means. Also, woman training for 4y+ and men up to 2y have equivalent means."
      ],
      "metadata": {
        "id": "ud3FpGuwdN9e"
      }
    },
    {
      "cell_type": "markdown",
      "source": [
        "# Exploring Ordinal Variables"
      ],
      "metadata": {
        "id": "M-DBOeMQdPzI"
      }
    },
    {
      "cell_type": "code",
      "source": [
        "ord_var = df.iloc[:,-5:] #ordinal variables"
      ],
      "metadata": {
        "id": "Yj903ZxbdMbf"
      },
      "execution_count": null,
      "outputs": []
    },
    {
      "cell_type": "code",
      "source": [
        "for col in ord_var.columns:\n",
        "    print(col,ord_var.groupby(col).size().idxmax())"
      ],
      "metadata": {
        "id": "AFJTWSggdRa-"
      },
      "execution_count": null,
      "outputs": []
    },
    {
      "cell_type": "code",
      "source": [
        "# dataviz of ordinal variables\n",
        "\n",
        "\n",
        "fig, axs = plt.subplots(4, 1, figsize=(12,30))\n",
        "\n",
        "for i, col in enumerate(ord_var.iloc[:,:-1]):\n",
        "    data = ord_var.groupby(['howlong',col]).size().reset_index(name='frequency')\n",
        "    indexes = data['howlong'].unique()\n",
        "    columns = data[col].unique()\n",
        "    data = data['frequency'].values.reshape((len(indexes), len(columns)))\n",
        "    data = pd.DataFrame(data, index = indexes, columns = columns)\n",
        "\n",
        "    plt.subplot(4, 1, i + 1)\n",
        "    sns.heatmap(data, annot=True, fmt='d', cmap='Reds')\n",
        "    plt.xlabel(col)\n",
        "    plt.ylabel('howlong')\n",
        "    plt.title(f\"Heatmap {i + 1}\")\n",
        "plt.tight_layout()\n",
        "plt.show()"
      ],
      "metadata": {
        "id": "wdWpTakjdSqG"
      },
      "execution_count": null,
      "outputs": []
    },
    {
      "cell_type": "markdown",
      "source": [
        "# Conclusions\n",
        "## The most popular group for each variable is people who:\n",
        "* #### eat: 'eat quality foods but don't measure the amount' or 'eat strict Paleo'. They do not 'eat 1-3 full cheat meals per week', 'weigh and measure my food' or 'eat whatever is convenient'.\n",
        "* #### train: have a program designed by their coach (gym, personal trainer or CrossFit coach). They do not track their progress or design their own program.\n",
        "* #### background: have played youth or high school-level sports. They have not played recreational (hobby), college or professional-level sports.\n",
        "* #### schedule: usually only do one workout a day, instead of multiple workouts.\n",
        "* #### 1-2 years: have been training CrossFit for 1-2 years.\n",
        "\n",
        "## The 'howlong' heatmaps indicate:\n",
        "* ### eat\n",
        " * #### For all timeframes, the smallest group is who weigh their meals and the biggest is always who eat healthy.\n",
        " * #### The largest group was more than twice the size of the second group (regular cheaters/not restricting).\n",
        "* ### train\n",
        " * #### For all timeframes, the smallest group is who designs their own program and the biggest is who has a program designed by their coach.\n",
        " * #### 1-4 years of CrossFit is whenever people most track their progress.\n",
        "* ### background\n",
        " * #### For all timeframes, the crescent order of group size is who played professional-level sports, then only CrossFit, recreational, college, and high school-level sports.\n",
        " * #### For most of the timeframes, groups of people who played recreational (hobby) and college-level sports are barely of equal size.\n",
        "* ### schedule\n",
        " * #### For all timeframes, the crescent order of group size is who practice multiple workouts in a day once a week, then twice a week, multiple times a week and the biggest is who workouts once a day.\n",
        ""
      ],
      "metadata": {
        "id": "Zl2PuLkrdWWv"
      }
    },
    {
      "cell_type": "code",
      "source": [],
      "metadata": {
        "id": "AvmbiYGcdb_K"
      },
      "execution_count": null,
      "outputs": []
    }
  ]
}